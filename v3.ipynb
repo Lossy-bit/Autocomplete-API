{
  "cells": [
    {
      "cell_type": "code",
      "execution_count": null,
      "metadata": {
        "colab": {
          "base_uri": "https://localhost:8080/"
        },
        "id": "E0HhIdD14Fh9",
        "outputId": "e3471be1-92ba-48d0-b77e-1612fd6a83a4"
      },
      "outputs": [
        {
          "name": "stdout",
          "output_type": "stream",
          "text": [
            "{'version': 'v3', 'count': 15, 'results': ['0', '0 .r m1', '0 3', '0 4', '0 c.xcr+', '0 u', '0 v-v8gq', '0+22l2p8', '0+d', '0+e3ldrq', '0+h6i48r1j', '0+k94tv048', '0+qcv-mazy', '0+qy', '0+yg39.ujr']}\n"
          ]
        }
      ],
      "source": [
        "# Importing the requests library to make HTTP requests\n",
        "import requests\n",
        "\n",
        "# Defining the base URL for the v3 autocomplete API\n",
        "base_url = \"http://35.200.185.69:8000/v3/autocomplete\"\n",
        "\n",
        "# Send a GET request to the API with the query <str> and print the JSON response\n",
        "response = requests.get(f\"{base_url}?query=\")\n",
        "print(response.json())"
      ]
    },
    {
      "cell_type": "code",
      "execution_count": null,
      "metadata": {
        "colab": {
          "base_uri": "https://localhost:8080/"
        },
        "id": "Z4cQIThYM-BU",
        "outputId": "6de297c9-4f76-4729-a96a-b7c4788b3a7e"
      },
      "outputs": [
        {
          "name": "stdout",
          "output_type": "stream",
          "text": [
            "{'date': 'Mon, 24 Mar 2025 01:26:05 GMT', 'server': 'uvicorn', 'content-length': '39', 'content-type': 'application/json'}\n"
          ]
        }
      ],
      "source": [
        "# Send a GET request to the API with the query <str> and print the response headers\n",
        "response = requests.get(f\"{base_url}?query=A\")\n",
        "print(response.headers)"
      ]
    },
    {
      "cell_type": "code",
      "execution_count": null,
      "metadata": {
        "collapsed": true,
        "id": "N9anXdzgWDiD"
      },
      "outputs": [],
      "source": [
        "# Import libraries: requests for HTTP requests and time for delays\n",
        "import requests\n",
        "import time\n",
        "\n",
        "BASE_URL = \"http://35.200.185.69:8000/v3/autocomplete\""
      ]
    },
    {
      "cell_type": "code",
      "execution_count": 4,
      "metadata": {
        "id": "Xg3lwjCBvB8m"
      },
      "outputs": [],
      "source": [
        "# Counters for tracking the number of successes and rate limit hits\n",
        "successful_requests = 0\n",
        "rate_limit_hits = 0"
      ]
    },
    {
      "cell_type": "code",
      "execution_count": null,
      "metadata": {
        "id": "bR4nJNJotmki"
      },
      "outputs": [],
      "source": [
        "# Function to fetch autocomplete results from the API with retry logic for rate limits and errors.\n",
        "def fetch_results(query, max_retries=5):\n",
        "    \"\"\" Fetch results from the API for a given query with rate limit handling.\n",
        "        Args:\\n\",\n",
        "            query (str): The query string to send to the API.,\n",
        "            max_retries (int): Maximum number of retry attempts for failed requests (default: 5),\n",
        "        Returns:\n",
        "            list: List of results from the API, or empty list if request fails after retries.\n",
        "    \"\"\"\n",
        "    global successful_requests, rate_limit_hits\n",
        "\n",
        "    retries = 0\n",
        "    backoff = 40  # Initial backoff time (seconds)\n",
        "\n",
        "    while retries < max_retries:\n",
        "        try:\n",
        "            response = requests.get(f\"{BASE_URL}?query={query}\", timeout=5)\n",
        "\n",
        "            # Handle successful response\n",
        "            if response.status_code == 200:\n",
        "                successful_requests += 1  # Increment success counter\n",
        "                return response.json().get(\"results\")\n",
        "\n",
        "            # Handle rate limiting (HTTP 429)\n",
        "            elif response.status_code == 429:\n",
        "                rate_limit_hits += 1  # Increment rate limit hit counter\n",
        "                print(f\"Rate limit hit for query '{query}'. Retrying after {backoff}s...\")\n",
        "                time.sleep(backoff)\n",
        "                backoff *= 2  # Exponential backoff (40s → 80s → 160s → ...)\n",
        "                retries += 1\n",
        "\n",
        "            # Handle other errors (e.g., 500, 403)\n",
        "            else:\n",
        "                print(f\"Unexpected status {response.status_code} for query '{query}'.\")\n",
        "                break\n",
        "\n",
        "        # Handle timeouts or connection errors\n",
        "        except (requests.exceptions.Timeout, requests.exceptions.ConnectionError) as e:\n",
        "            print(f\"Request failed for query '{query}': {e}\")\n",
        "            time.sleep(backoff)\n",
        "            backoff *= 2\n",
        "            retries += 1\n",
        "\n",
        "    print(f\"Max retries reached for query '{query}'. Skipping...\")\n",
        "    return []"
      ]
    },
    {
      "cell_type": "code",
      "execution_count": null,
      "metadata": {
        "id": "5QlqM5v0vlcZ"
      },
      "outputs": [],
      "source": [
        "# Function to find the common prefix among a list of strings\n",
        "def common_char(arr):\n",
        "  \"\"\" Find the common prefix of all strings in the array.\n",
        "      Args:\n",
        "          arr (list): List of strings to compare.\n",
        "      Returns:\n",
        "          str: The common prefix, or the first string if all match fully.\n",
        "  \"\"\"\n",
        "  for i in range(len(arr[0])):\n",
        "    for j in range(1, len(arr)):\n",
        "      if i >= len(arr[j]) or arr[0][i] != arr[j][i]:\n",
        "        return arr[0][:i]\n",
        "  return arr[0]"
      ]
    },
    {
      "cell_type": "code",
      "execution_count": null,
      "metadata": {
        "id": "efsRZ_3Kv2tJ"
      },
      "outputs": [],
      "source": [
        "# Define character sets for generating queries\n",
        "alpha=['a','b','c','d','e','f','g','h','i','j','k','l','m','n','o','p','q','r','s','t','u','v','w','x','y','z']\n",
        "num=['0','1','2','3','4','5','6','7','8','9']\n",
        "special=[' ','+','-','.']"
      ]
    },
    {
      "cell_type": "code",
      "execution_count": null,
      "metadata": {
        "id": "iIglmGmrxOAa"
      },
      "outputs": [],
      "source": [
        "v1=alpha                # Define character sets for generating queries\n",
        "v2=num+alpha            # Numbers and letters\n",
        "v3=special+num+alpha    # Special characters, numbers, and letters"
      ]
    },
    {
      "cell_type": "code",
      "execution_count": null,
      "metadata": {
        "id": "yii42nmVxtUX"
      },
      "outputs": [],
      "source": [
        "# Set the vocabulary to use (Special characters + numbers + letters) and the expected number of results per query\n",
        "v=v3\n",
        "count=15"
      ]
    },
    {
      "cell_type": "code",
      "execution_count": null,
      "metadata": {
        "id": "hR-MLwkivyur"
      },
      "outputs": [],
      "source": [
        "def next_query(query):\n",
        "  \"\"\" Generate the next query by incrementing the last character or rolling over.\\n\",\n",
        "      Args:\n",
        "          query (str): Current query string.\n",
        "      Returns:\n",
        "          str: Next query string, or '-1' if all possibilities are exhausted.\n",
        "  \"\"\"\n",
        "  if query[-1]!='z':          # If last character isn't 'z', increment it.\n",
        "    idx=v.index(query[-1])\n",
        "    query=query[:-1]+v[idx+1]\n",
        "    return query\n",
        "  else:\n",
        "    while query[-1]=='z':     # If last character is 'z', roll over to the next position\n",
        "      if len(query)==1:\n",
        "        return \"-1\"\n",
        "      query=query[:-1]\n",
        "    idx=v.index(query[-1])\n",
        "    query=query[:-1]+v[idx+1]\n",
        "    return query\n"
      ]
    },
    {
      "cell_type": "code",
      "execution_count": null,
      "metadata": {
        "colab": {
          "base_uri": "https://localhost:8080/"
        },
        "id": "tMiFNv-Dp6RT",
        "outputId": "a864c54e-dc67-4b19-b5e0-3eceabd21153"
      },
      "outputs": [
        {
          "name": "stdout",
          "output_type": "stream",
          "text": [
            "Rate limit hit for query '0jt'. Retrying after 40s...\n",
            "Rate limit hit for query '2f'. Retrying after 40s...\n",
            "Rate limit hit for query '4i'. Retrying after 40s...\n",
            "Rate limit hit for query '6899'. Retrying after 40s...\n",
            "Rate limit hit for query '6wj.'. Retrying after 40s...\n",
            "Rate limit hit for query '7l'. Retrying after 40s...\n",
            "Rate limit hit for query '9r'. Retrying after 40s...\n",
            "Rate limit hit for query 'bu'. Retrying after 40s...\n",
            "Rate limit hit for query 'dhx7'. Retrying after 40s...\n",
            "Rate limit hit for query 'eu'. Retrying after 40s...\n",
            "Rate limit hit for query 'gx'. Retrying after 40s...\n",
            "Rate limit hit for query 'hoa'. Retrying after 40s...\n",
            "Rate limit hit for query 'hsu'. Retrying after 40s...\n",
            "Rate limit hit for query 'jp'. Retrying after 40s...\n",
            "Rate limit hit for query 'lq'. Retrying after 40s...\n",
            "Rate limit hit for query 'nlw6o2'. Retrying after 40s...\n",
            "Rate limit hit for query 'nly'. Retrying after 40s...\n",
            "Rate limit hit for query 'pn'. Retrying after 40s...\n",
            "Rate limit hit for query 'qivnv'. Retrying after 40s...\n",
            "Rate limit hit for query 'qlqtf'. Retrying after 40s...\n",
            "Rate limit hit for query 'rr'. Retrying after 40s...\n",
            "Rate limit hit for query 'rx'. Retrying after 40s...\n",
            "Rate limit hit for query 't3s-r'. Retrying after 40s...\n",
            "Rate limit hit for query 'tv'. Retrying after 40s...\n",
            "Rate limit hit for query 'u4l'. Retrying after 40s...\n",
            "Rate limit hit for query 'uw'. Retrying after 40s...\n",
            "Rate limit hit for query 'w5u%20.q'. Retrying after 40s...\n",
            "Rate limit hit for query 'w5uv'. Retrying after 40s...\n",
            "Rate limit hit for query 'wgv'. Retrying after 40s...\n",
            "Rate limit hit for query 'x8'. Retrying after 40s...\n",
            "Rate limit hit for query 'xb'. Retrying after 40s...\n",
            "Rate limit hit for query 'yno'. Retrying after 40s...\n",
            "API requests: 2602\n"
          ]
        }
      ],
      "source": [
        "# Main loop to fetch autocomplete suggestions and write them to a file\n",
        "query=v[0]      # Start with the first character in the vocabulary ('0')\n",
        "early_list=[]   # Store results from the previous query to avoid duplicates\n",
        "api_request=0   # Counter for total API requests\n",
        "while True:\n",
        "    # Encode the query string: replace ' ' with '%20' and '+' with '%2B' for URL compatibility\n",
        "    nq=\"\"\n",
        "    for i in query:\n",
        "      if i==\" \":\n",
        "        nq+=\"%20\"\n",
        "      elif i==\"+\":\n",
        "        nq+=\"%2B\"\n",
        "      else:\n",
        "        nq+=i\n",
        "\n",
        "    # Fetch results for the current query\n",
        "    results = fetch_results(nq)\n",
        "    api_request+=1\n",
        "\n",
        "    # Write new results to 'output_v3.txt', avoiding duplicates from the last call\n",
        "    with open(\"output_v3.txt\",'a') as f:\n",
        "      for w in results:\n",
        "        if w not in early_list:\n",
        "          f.write(w+'\\n')\n",
        "      early_list=results      # Update the previous results list\n",
        "\n",
        "    # If the API returns the expected number of results, refine the query\n",
        "    if len(results) == count:\n",
        "        query=common_char(results)\n",
        "        query+=results[-1][len(query)]    # Append the next character from the last result\n",
        "    else:\n",
        "        # Move to the next query in the sequence\n",
        "        query=next_query(query)\n",
        "        if query == \"-1\":   # If no more queries are possible, exit the loop\n",
        "          break\n",
        "\n",
        "# Print the total number of API requests made\n",
        "print(f\"API requests: {api_request}\")"
      ]
    },
    {
      "cell_type": "code",
      "execution_count": 12,
      "metadata": {
        "colab": {
          "base_uri": "https://localhost:8080/"
        },
        "id": "PFfDMQvytsYl",
        "outputId": "fda7b269-6530-4579-c0f2-f68c31256193"
      },
      "outputs": [
        {
          "name": "stdout",
          "output_type": "stream",
          "text": [
            "Successful requests: 2602\n",
            "Rate limit errors: 32\n"
          ]
        }
      ],
      "source": [
        "# After calling the function, you can print the tracking statistics:\n",
        "print(f\"Successful requests: {successful_requests}\")\n",
        "print(f\"Rate limit errors: {rate_limit_hits}\")"
      ]
    },
    {
      "cell_type": "code",
      "execution_count": 12,
      "metadata": {
        "id": "YSi_mVw7YF33"
      },
      "outputs": [],
      "source": []
    }
  ],
  "metadata": {
    "colab": {
      "provenance": []
    },
    "kernelspec": {
      "display_name": "Python 3",
      "name": "python3"
    },
    "language_info": {
      "name": "python"
    }
  },
  "nbformat": 4,
  "nbformat_minor": 0
}
