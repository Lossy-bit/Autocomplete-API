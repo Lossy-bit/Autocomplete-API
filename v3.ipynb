{
  "nbformat": 4,
  "nbformat_minor": 0,
  "metadata": {
    "colab": {
      "provenance": []
    },
    "kernelspec": {
      "name": "python3",
      "display_name": "Python 3"
    },
    "language_info": {
      "name": "python"
    }
  },
  "cells": [
    {
      "cell_type": "code",
      "execution_count": 1,
      "metadata": {
        "colab": {
          "base_uri": "https://localhost:8080/"
        },
        "outputId": "e3471be1-92ba-48d0-b77e-1612fd6a83a4",
        "id": "E0HhIdD14Fh9"
      },
      "outputs": [
        {
          "output_type": "stream",
          "name": "stdout",
          "text": [
            "{'version': 'v3', 'count': 15, 'results': ['0', '0 .r m1', '0 3', '0 4', '0 c.xcr+', '0 u', '0 v-v8gq', '0+22l2p8', '0+d', '0+e3ldrq', '0+h6i48r1j', '0+k94tv048', '0+qcv-mazy', '0+qy', '0+yg39.ujr']}\n"
          ]
        }
      ],
      "source": [
        "import requests\n",
        "\n",
        "base_url = \"http://35.200.185.69:8000/v3/autocomplete\"\n",
        "response = requests.get(f\"{base_url}?query=\")\n",
        "print(response.json())"
      ]
    },
    {
      "cell_type": "code",
      "source": [
        "response = requests.get(f\"{base_url}?query=A\")\n",
        "print(response.headers)"
      ],
      "metadata": {
        "colab": {
          "base_uri": "https://localhost:8080/"
        },
        "id": "Z4cQIThYM-BU",
        "outputId": "6de297c9-4f76-4729-a96a-b7c4788b3a7e"
      },
      "execution_count": 2,
      "outputs": [
        {
          "output_type": "stream",
          "name": "stdout",
          "text": [
            "{'date': 'Mon, 24 Mar 2025 01:26:05 GMT', 'server': 'uvicorn', 'content-length': '39', 'content-type': 'application/json'}\n"
          ]
        }
      ]
    },
    {
      "cell_type": "code",
      "source": [
        "import requests\n",
        "import time\n",
        "\n",
        "BASE_URL = \"http://35.200.185.69:8000/v3/autocomplete\"\n",
        "collected_names = set()"
      ],
      "metadata": {
        "collapsed": true,
        "id": "N9anXdzgWDiD"
      },
      "execution_count": 3,
      "outputs": []
    },
    {
      "cell_type": "code",
      "source": [
        "# Counters for tracking the number of successes and rate limit hits\n",
        "successful_requests = 0\n",
        "rate_limit_hits = 0"
      ],
      "metadata": {
        "id": "Xg3lwjCBvB8m"
      },
      "execution_count": 4,
      "outputs": []
    },
    {
      "cell_type": "code",
      "source": [
        "def fetch_results(query, max_retries=5):\n",
        "    \"\"\" Fetch results from the API for a given query with rate limit handling. \"\"\"\n",
        "    global successful_requests, rate_limit_hits\n",
        "\n",
        "    retries = 0\n",
        "    backoff = 40  # Initial backoff time (seconds)\n",
        "\n",
        "    while retries < max_retries:\n",
        "        try:\n",
        "            response = requests.get(f\"{BASE_URL}?query={query}\", timeout=5)\n",
        "\n",
        "            # Handle successful response\n",
        "            if response.status_code == 200:\n",
        "                successful_requests += 1  # Increment success counter\n",
        "                return response.json().get(\"results\")\n",
        "\n",
        "            # Handle rate limiting (HTTP 429)\n",
        "            elif response.status_code == 429:\n",
        "                rate_limit_hits += 1  # Increment rate limit hit counter\n",
        "                print(f\"Rate limit hit for query '{query}'. Retrying after {backoff}s...\")\n",
        "                time.sleep(backoff)\n",
        "                backoff *= 2  # Exponential backoff (1s → 2s → 4s → ...)\n",
        "                retries += 1\n",
        "\n",
        "            # Handle other errors (e.g., 500, 403)\n",
        "            else:\n",
        "                print(f\"Unexpected status {response.status_code} for query '{query}'.\")\n",
        "                break\n",
        "\n",
        "        # Handle timeouts or connection errors\n",
        "        except (requests.exceptions.Timeout, requests.exceptions.ConnectionError) as e:\n",
        "            print(f\"Request failed for query '{query}': {e}\")\n",
        "            time.sleep(backoff)\n",
        "            backoff *= 2\n",
        "            retries += 1\n",
        "\n",
        "    print(f\"Max retries reached for query '{query}'. Skipping...\")\n",
        "    return []"
      ],
      "metadata": {
        "id": "bR4nJNJotmki"
      },
      "execution_count": 5,
      "outputs": []
    },
    {
      "cell_type": "code",
      "source": [
        "def common_char(arr):\n",
        "  for i in range(len(arr[0])):\n",
        "    for j in range(1, len(arr)):\n",
        "      if i >= len(arr[j]) or arr[0][i] != arr[j][i]:\n",
        "        return arr[0][:i]\n",
        "  return arr[0]"
      ],
      "metadata": {
        "id": "5QlqM5v0vlcZ"
      },
      "execution_count": 6,
      "outputs": []
    },
    {
      "cell_type": "code",
      "source": [
        "alpha=['a','b','c','d','e','f','g','h','i','j','k','l','m','n','o','p','q','r','s','t','u','v','w','x','y','z']\n",
        "num=['0','1','2','3','4','5','6','7','8','9']\n",
        "special=[' ','+','-','.']"
      ],
      "metadata": {
        "id": "efsRZ_3Kv2tJ"
      },
      "execution_count": 7,
      "outputs": []
    },
    {
      "cell_type": "code",
      "source": [
        "v1=alpha\n",
        "v2=num+alpha\n",
        "v3=special+num+alpha"
      ],
      "metadata": {
        "id": "iIglmGmrxOAa"
      },
      "execution_count": 8,
      "outputs": []
    },
    {
      "cell_type": "code",
      "source": [
        "v=v3\n",
        "count=15"
      ],
      "metadata": {
        "id": "yii42nmVxtUX"
      },
      "execution_count": 9,
      "outputs": []
    },
    {
      "cell_type": "code",
      "source": [
        "def next_query(query):\n",
        "  if query[-1]!='z':\n",
        "    idx=v.index(query[-1])\n",
        "    query=query[:-1]+v[idx+1]\n",
        "    return query\n",
        "  else:\n",
        "    while query[-1]=='z':\n",
        "      if len(query)==1:\n",
        "        return \"-1\"\n",
        "      query=query[:-1]\n",
        "    idx=v.index(query[-1])\n",
        "    query=query[:-1]+v[idx+1]\n",
        "    return query\n"
      ],
      "metadata": {
        "id": "hR-MLwkivyur"
      },
      "execution_count": 10,
      "outputs": []
    },
    {
      "cell_type": "code",
      "source": [
        "query=v[0]\n",
        "early_list=[]\n",
        "api_request=0\n",
        "while True:\n",
        "    nq=\"\"\n",
        "    for i in query:\n",
        "      if i==\" \":\n",
        "        nq+=\"%20\"\n",
        "      elif i==\"+\":\n",
        "        nq+=\"%2B\"\n",
        "      else:\n",
        "        nq+=i\n",
        "    # query=nq\n",
        "    results = fetch_results(nq)\n",
        "    api_request+=1\n",
        "    with open(\"output_v32.txt\",'a') as f:\n",
        "      for w in results:\n",
        "        if w not in early_list:\n",
        "          f.write(w+'\\n')\n",
        "      early_list=results\n",
        "    if len(results) == count:\n",
        "        query=common_char(results)\n",
        "        query+=results[-1][len(query)]\n",
        "    else:\n",
        "        query=next_query(query)\n",
        "        if query == \"-1\":\n",
        "          break\n",
        "\n",
        "print(f\"API requests: {api_request}\")"
      ],
      "metadata": {
        "id": "tMiFNv-Dp6RT",
        "colab": {
          "base_uri": "https://localhost:8080/"
        },
        "outputId": "a864c54e-dc67-4b19-b5e0-3eceabd21153"
      },
      "execution_count": 11,
      "outputs": [
        {
          "output_type": "stream",
          "name": "stdout",
          "text": [
            "Rate limit hit for query '0jt'. Retrying after 40s...\n",
            "Rate limit hit for query '2f'. Retrying after 40s...\n",
            "Rate limit hit for query '4i'. Retrying after 40s...\n",
            "Rate limit hit for query '6899'. Retrying after 40s...\n",
            "Rate limit hit for query '6wj.'. Retrying after 40s...\n",
            "Rate limit hit for query '7l'. Retrying after 40s...\n",
            "Rate limit hit for query '9r'. Retrying after 40s...\n",
            "Rate limit hit for query 'bu'. Retrying after 40s...\n",
            "Rate limit hit for query 'dhx7'. Retrying after 40s...\n",
            "Rate limit hit for query 'eu'. Retrying after 40s...\n",
            "Rate limit hit for query 'gx'. Retrying after 40s...\n",
            "Rate limit hit for query 'hoa'. Retrying after 40s...\n",
            "Rate limit hit for query 'hsu'. Retrying after 40s...\n",
            "Rate limit hit for query 'jp'. Retrying after 40s...\n",
            "Rate limit hit for query 'lq'. Retrying after 40s...\n",
            "Rate limit hit for query 'nlw6o2'. Retrying after 40s...\n",
            "Rate limit hit for query 'nly'. Retrying after 40s...\n",
            "Rate limit hit for query 'pn'. Retrying after 40s...\n",
            "Rate limit hit for query 'qivnv'. Retrying after 40s...\n",
            "Rate limit hit for query 'qlqtf'. Retrying after 40s...\n",
            "Rate limit hit for query 'rr'. Retrying after 40s...\n",
            "Rate limit hit for query 'rx'. Retrying after 40s...\n",
            "Rate limit hit for query 't3s-r'. Retrying after 40s...\n",
            "Rate limit hit for query 'tv'. Retrying after 40s...\n",
            "Rate limit hit for query 'u4l'. Retrying after 40s...\n",
            "Rate limit hit for query 'uw'. Retrying after 40s...\n",
            "Rate limit hit for query 'w5u%20.q'. Retrying after 40s...\n",
            "Rate limit hit for query 'w5uv'. Retrying after 40s...\n",
            "Rate limit hit for query 'wgv'. Retrying after 40s...\n",
            "Rate limit hit for query 'x8'. Retrying after 40s...\n",
            "Rate limit hit for query 'xb'. Retrying after 40s...\n",
            "Rate limit hit for query 'yno'. Retrying after 40s...\n",
            "API requests: 2602\n"
          ]
        }
      ]
    },
    {
      "cell_type": "code",
      "source": [
        "# After calling the function, you can print the tracking statistics:\n",
        "print(f\"Successful requests: {successful_requests}\")\n",
        "print(f\"Rate limit errors: {rate_limit_hits}\")"
      ],
      "metadata": {
        "id": "PFfDMQvytsYl",
        "colab": {
          "base_uri": "https://localhost:8080/"
        },
        "outputId": "fda7b269-6530-4579-c0f2-f68c31256193"
      },
      "execution_count": 12,
      "outputs": [
        {
          "output_type": "stream",
          "name": "stdout",
          "text": [
            "Successful requests: 2602\n",
            "Rate limit errors: 32\n"
          ]
        }
      ]
    },
    {
      "cell_type": "code",
      "source": [],
      "metadata": {
        "id": "YSi_mVw7YF33"
      },
      "execution_count": 12,
      "outputs": []
    }
  ]
}