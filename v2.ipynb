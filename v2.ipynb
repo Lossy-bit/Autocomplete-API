{
  "cells": [
    {
      "cell_type": "code",
      "execution_count": null,
      "metadata": {
        "colab": {
          "base_uri": "https://localhost:8080/"
        },
        "id": "E0HhIdD14Fh9",
        "outputId": "b3a3aa09-a8e2-46d4-a278-83a5ed61bde0"
      },
      "outputs": [
        {
          "name": "stdout",
          "output_type": "stream",
          "text": [
            "{'version': 'v2', 'count': 0, 'results': []}\n"
          ]
        }
      ],
      "source": [
        "# Importing the requests library to make HTTP requests\n",
        "import requests\n",
        "\n",
        "# Defining the base URL for the v2 autocomplete API\n",
        "base_url = \"http://35.200.185.69:8000/v2/autocomplete\"\n",
        "\n",
        "# Send a GET request to the API with the query <str> and print the JSON response\n",
        "response = requests.get(f\"{base_url}?query=aao\")\n",
        "print(response.json())"
      ]
    },
    {
      "cell_type": "code",
      "execution_count": null,
      "metadata": {
        "colab": {
          "base_uri": "https://localhost:8080/"
        },
        "id": "Z4cQIThYM-BU",
        "outputId": "b4315ead-0ead-4db3-c541-9dc1eec489e1"
      },
      "outputs": [
        {
          "name": "stdout",
          "output_type": "stream",
          "text": [
            "{'date': 'Mon, 24 Mar 2025 01:01:39 GMT', 'server': 'uvicorn', 'content-length': '39', 'content-type': 'application/json'}\n"
          ]
        }
      ],
      "source": [
        "# Send a GET request to the API with the query <str> and print the response headers\n",
        "response = requests.get(f\"{base_url}?query=A\")\n",
        "print(response.headers)"
      ]
    },
    {
      "cell_type": "code",
      "execution_count": null,
      "metadata": {
        "collapsed": true,
        "id": "N9anXdzgWDiD"
      },
      "outputs": [],
      "source": [
        "# Import libraries: requests for HTTP requests and time for delays\n",
        "import requests\n",
        "import time\n",
        "\n",
        "BASE_URL = \"http://35.200.185.69:8000/v2/autocomplete\""
      ]
    },
    {
      "cell_type": "code",
      "execution_count": 4,
      "metadata": {
        "id": "Xg3lwjCBvB8m"
      },
      "outputs": [],
      "source": [
        "# Counters for tracking the number of successes and rate limit hits\n",
        "successful_requests = 0\n",
        "rate_limit_hits = 0"
      ]
    },
    {
      "cell_type": "code",
      "execution_count": null,
      "metadata": {
        "id": "bR4nJNJotmki"
      },
      "outputs": [],
      "source": [
        "# Function to fetch autocomplete results from the API with retry logic for rate limits and errors.\n",
        "def fetch_results(query, max_retries=5):\n",
        "    \"\"\" Fetch results from the API for a given query with rate limit handling.\n",
        "        Args:\\n\",\n",
        "            query (str): The query string to send to the API.,\n",
        "            max_retries (int): Maximum number of retry attempts for failed requests (default: 5),\n",
        "        Returns:\n",
        "            list: List of results from the API, or empty list if request fails after retries.\n",
        "    \"\"\"\n",
        "    global successful_requests, rate_limit_hits\n",
        "\n",
        "    retries = 0\n",
        "    backoff = 40  # Initial backoff time (seconds)\n",
        "\n",
        "    while retries < max_retries:\n",
        "        try:\n",
        "            response = requests.get(f\"{BASE_URL}?query={query}\", timeout=5)\n",
        "\n",
        "            # Handle successful response\n",
        "            if response.status_code == 200:\n",
        "                successful_requests += 1  # Increment success counter\n",
        "                return response.json().get(\"results\")\n",
        "\n",
        "            # Handle rate limiting (HTTP 429)\n",
        "            elif response.status_code == 429:\n",
        "                rate_limit_hits += 1  # Increment rate limit hit counter\n",
        "                print(f\"Rate limit hit for query '{query}'. Retrying after {backoff}s...\")\n",
        "                time.sleep(backoff)\n",
        "                backoff *= 2  # Exponential backoff (40s → 80s → 160s → ...)\n",
        "                retries += 1\n",
        "\n",
        "            # Handle other errors (e.g., 500, 403)\n",
        "            else:\n",
        "                print(f\"Unexpected status {response.status_code} for query '{query}'.\")\n",
        "                break\n",
        "\n",
        "        # Handle timeouts or connection errors\n",
        "        except (requests.exceptions.Timeout, requests.exceptions.ConnectionError) as e:\n",
        "            print(f\"Request failed for query '{query}': {e}\")\n",
        "            time.sleep(backoff)\n",
        "            backoff *= 2\n",
        "            retries += 1\n",
        "\n",
        "    print(f\"Max retries reached for query '{query}'. Skipping...\")\n",
        "    return []"
      ]
    },
    {
      "cell_type": "code",
      "execution_count": null,
      "metadata": {
        "id": "5QlqM5v0vlcZ"
      },
      "outputs": [],
      "source": [
        "# Function to find the common prefix among a list of strings\n",
        "def common_char(arr):\n",
        "  \"\"\" Find the common prefix of all strings in the array.\n",
        "      Args:\n",
        "          arr (list): List of strings to compare.\n",
        "      Returns:\n",
        "          str: The common prefix, or the first string if all match fully.\n",
        "  \"\"\"\n",
        "  for i in range(len(arr[0])):\n",
        "    for j in range(1, len(arr)):\n",
        "      if i >= len(arr[j]) or arr[0][i] != arr[j][i]:\n",
        "        return arr[0][:i]\n",
        "  return arr[0]"
      ]
    },
    {
      "cell_type": "code",
      "execution_count": null,
      "metadata": {
        "id": "efsRZ_3Kv2tJ"
      },
      "outputs": [],
      "source": [
        "# Define character sets for generating queries\n",
        "alpha=['a','b','c','d','e','f','g','h','i','j','k','l','m','n','o','p','q','r','s','t','u','v','w','x','y','z']\n",
        "num=['0','1','2','3','4','5','6','7','8','9']\n",
        "special=[' ','+','-','.']"
      ]
    },
    {
      "cell_type": "code",
      "execution_count": null,
      "metadata": {
        "id": "iIglmGmrxOAa"
      },
      "outputs": [],
      "source": [
        "v1=alpha                # Define character sets for generating queries\n",
        "v2=num+alpha            # Numbers and letters\n",
        "v3=special+num+alpha    # Special characters, numbers, and letters"
      ]
    },
    {
      "cell_type": "code",
      "execution_count": null,
      "metadata": {
        "id": "yii42nmVxtUX"
      },
      "outputs": [],
      "source": [
        "# Set the vocabulary to use (numbers + letters) and the expected number of results per query\n",
        "v=v2\n",
        "count=12"
      ]
    },
    {
      "cell_type": "code",
      "execution_count": null,
      "metadata": {
        "id": "hR-MLwkivyur"
      },
      "outputs": [],
      "source": [
        "def next_query(query):\n",
        "  \"\"\" Generate the next query by incrementing the last character or rolling over.\\n\",\n",
        "      Args:\n",
        "          query (str): Current query string.\n",
        "      Returns:\n",
        "          str: Next query string, or '-1' if all possibilities are exhausted.\n",
        "  \"\"\"\n",
        "  if query[-1]!='z':          # If last character isn't 'z', increment it.\n",
        "    idx=v.index(query[-1])\n",
        "    query=query[:-1]+v[idx+1]\n",
        "    return query\n",
        "  else:\n",
        "    while query[-1]=='z':     # If last character is 'z', roll over to the next position\n",
        "      if len(query)==1:\n",
        "        return \"-1\"\n",
        "      query=query[:-1]\n",
        "    idx=v.index(query[-1])\n",
        "    query=query[:-1]+v[idx+1]\n",
        "    return query\n"
      ]
    },
    {
      "cell_type": "code",
      "execution_count": null,
      "metadata": {
        "colab": {
          "base_uri": "https://localhost:8080/"
        },
        "id": "tMiFNv-Dp6RT",
        "outputId": "0ccaff9d-3fbf-4b08-839d-b184597f1162"
      },
      "outputs": [
        {
          "name": "stdout",
          "output_type": "stream",
          "text": [
            "Rate limit hit for query '19y'. Retrying after 40s...\n",
            "Rate limit hit for query '1azou'. Retrying after 40s...\n",
            "Rate limit hit for query '22'. Retrying after 40s...\n",
            "Rate limit hit for query '3abu5'. Retrying after 40s...\n",
            "Rate limit hit for query '3ap'. Retrying after 40s...\n",
            "Rate limit hit for query '48'. Retrying after 40s...\n",
            "Rate limit hit for query '5i'. Retrying after 40s...\n",
            "Rate limit hit for query '6j'. Retrying after 40s...\n",
            "Rate limit hit for query '7o'. Retrying after 40s...\n",
            "Rate limit hit for query '8s'. Retrying after 40s...\n",
            "Rate limit hit for query 'a8'. Retrying after 40s...\n",
            "Rate limit hit for query 'azd1c'. Retrying after 40s...\n",
            "Rate limit hit for query 'azd9'. Retrying after 40s...\n",
            "Rate limit hit for query 'b1'. Retrying after 40s...\n",
            "Rate limit hit for query 'c5'. Retrying after 40s...\n",
            "Rate limit hit for query 'desvu5'. Retrying after 40s...\n",
            "Rate limit hit for query 'desvuu'. Retrying after 40s...\n",
            "Rate limit hit for query 'dny'. Retrying after 40s...\n",
            "Rate limit hit for query 'el'. Retrying after 40s...\n",
            "Rate limit hit for query 'fz'. Retrying after 40s...\n",
            "Rate limit hit for query 'he'. Retrying after 40s...\n",
            "Rate limit hit for query 'huwd'. Retrying after 40s...\n",
            "Rate limit hit for query 'id'. Retrying after 40s...\n",
            "Rate limit hit for query 'jp'. Retrying after 40s...\n",
            "Rate limit hit for query 'l5'. Retrying after 40s...\n",
            "Rate limit hit for query 'llf4g'. Retrying after 40s...\n",
            "Rate limit hit for query 'llfb'. Retrying after 40s...\n",
            "Rate limit hit for query 'lo'. Retrying after 40s...\n",
            "Rate limit hit for query 'mn'. Retrying after 40s...\n",
            "Rate limit hit for query 'o1'. Retrying after 40s...\n",
            "Rate limit hit for query 'o9zt'. Retrying after 40s...\n",
            "Rate limit hit for query 'owb'. Retrying after 40s...\n",
            "Rate limit hit for query 'p8'. Retrying after 40s...\n",
            "Rate limit hit for query 'qf'. Retrying after 40s...\n",
            "Rate limit hit for query 'rec5v'. Retrying after 40s...\n",
            "Rate limit hit for query 'rej'. Retrying after 40s...\n",
            "Rate limit hit for query 'rxhjrbm'. Retrying after 40s...\n",
            "Rate limit hit for query 'rxhjt'. Retrying after 40s...\n",
            "Rate limit hit for query 's2w'. Retrying after 40s...\n",
            "Rate limit hit for query 'td'. Retrying after 40s...\n",
            "Rate limit hit for query 'teb'. Retrying after 40s...\n",
            "Rate limit hit for query 'tv'. Retrying after 40s...\n",
            "Rate limit hit for query 'udbjpx'. Retrying after 40s...\n",
            "Rate limit hit for query 'udq'. Retrying after 40s...\n",
            "Rate limit hit for query 'um31dw'. Retrying after 40s...\n",
            "Rate limit hit for query 'um3b'. Retrying after 40s...\n",
            "Rate limit hit for query 'umt'. Retrying after 40s...\n",
            "Rate limit hit for query 'veki4f'. Retrying after 40s...\n",
            "Rate limit hit for query 'vekih'. Retrying after 40s...\n",
            "Rate limit hit for query 'vez'. Retrying after 40s...\n",
            "Rate limit hit for query 'vrik'. Retrying after 40s...\n",
            "Rate limit hit for query 'w'. Retrying after 40s...\n",
            "Rate limit hit for query 'wtlwep'. Retrying after 40s...\n",
            "Rate limit hit for query 'wtx'. Retrying after 40s...\n",
            "Rate limit hit for query 'wyydx'. Retrying after 40s...\n",
            "Rate limit hit for query 'xn'. Retrying after 40s...\n",
            "Rate limit hit for query 'xyi'. Retrying after 40s...\n",
            "Rate limit hit for query 'xyx'. Retrying after 40s...\n",
            "Rate limit hit for query 'ybgnz'. Retrying after 40s...\n",
            "Rate limit hit for query 'yp'. Retrying after 40s...\n",
            "Rate limit hit for query 'yvvq'. Retrying after 40s...\n",
            "Rate limit hit for query 'zq'. Retrying after 40s...\n",
            "API requests: 3108\n"
          ]
        }
      ],
      "source": [
        "# Main loop to fetch autocomplete suggestions and write them to a file\n",
        "query=v[0]      # Start with the first character in the vocabulary ('%20')\n",
        "early_list=[]   # Store results from the previous query to avoid duplicates\n",
        "api_request=0   # Counter for total API requests\n",
        "while True:\n",
        "    # Fetch results for the current query\n",
        "    results = fetch_results(query)\n",
        "    api_request+=1\n",
        "\n",
        "    # Write new results to 'output_v2.txt', avoiding duplicates from the last call\n",
        "    with open(\"output_v2.txt\",'a') as f:\n",
        "      for w in results:\n",
        "        if w not in early_list:\n",
        "          f.write(w+'\\n')\n",
        "      early_list=results      # Update the previous results list\n",
        "\n",
        "    # If the API returns the expected number of results, refine the query\n",
        "    if len(results) == count:\n",
        "        query=common_char(results)\n",
        "        query+=results[-1][len(query)]    # Append the next character from the last result\n",
        "    else:\n",
        "        # Move to the next query in the sequence\n",
        "        query=next_query(query)\n",
        "        if query == \"-1\":   # If no more queries are possible, exit the loop\n",
        "          break\n",
        "\n",
        "# Print the total number of API requests made\n",
        "print(f\"API requests: {api_request}\")"
      ]
    },
    {
      "cell_type": "code",
      "execution_count": 12,
      "metadata": {
        "colab": {
          "base_uri": "https://localhost:8080/"
        },
        "id": "PFfDMQvytsYl",
        "outputId": "84dfb5dc-a693-487e-fbcb-c84b383b9035"
      },
      "outputs": [
        {
          "name": "stdout",
          "output_type": "stream",
          "text": [
            "Successful requests: 3108\n",
            "Rate limit errors: 62\n"
          ]
        }
      ],
      "source": [
        "# After calling the function, you can print the tracking statistics:\n",
        "print(f\"Successful requests: {successful_requests}\")\n",
        "print(f\"Rate limit errors: {rate_limit_hits}\")"
      ]
    },
    {
      "cell_type": "code",
      "execution_count": 12,
      "metadata": {
        "id": "YSi_mVw7YF33"
      },
      "outputs": [],
      "source": []
    }
  ],
  "metadata": {
    "colab": {
      "provenance": []
    },
    "kernelspec": {
      "display_name": "base",
      "language": "python",
      "name": "python3"
    },
    "language_info": {
      "codemirror_mode": {
        "name": "ipython",
        "version": 3
      },
      "file_extension": ".py",
      "mimetype": "text/x-python",
      "name": "python",
      "nbconvert_exporter": "python",
      "pygments_lexer": "ipython3",
      "version": "3.12.7"
    }
  },
  "nbformat": 4,
  "nbformat_minor": 0
}
