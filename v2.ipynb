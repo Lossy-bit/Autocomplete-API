{
  "nbformat": 4,
  "nbformat_minor": 0,
  "metadata": {
    "colab": {
      "provenance": []
    },
    "kernelspec": {
      "name": "python3",
      "display_name": "Python 3"
    },
    "language_info": {
      "name": "python"
    }
  },
  "cells": [
    {
      "cell_type": "code",
      "execution_count": 1,
      "metadata": {
        "colab": {
          "base_uri": "https://localhost:8080/"
        },
        "outputId": "b3a3aa09-a8e2-46d4-a278-83a5ed61bde0",
        "id": "E0HhIdD14Fh9"
      },
      "outputs": [
        {
          "output_type": "stream",
          "name": "stdout",
          "text": [
            "{'version': 'v2', 'count': 0, 'results': []}\n"
          ]
        }
      ],
      "source": [
        "import requests\n",
        "\n",
        "base_url = \"http://35.200.185.69:8000/v2/autocomplete\"\n",
        "response = requests.get(f\"{base_url}?query=aao\")\n",
        "print(response.json())"
      ]
    },
    {
      "cell_type": "code",
      "source": [
        "response = requests.get(f\"{base_url}?query=A\")\n",
        "print(response.headers)"
      ],
      "metadata": {
        "colab": {
          "base_uri": "https://localhost:8080/"
        },
        "id": "Z4cQIThYM-BU",
        "outputId": "b4315ead-0ead-4db3-c541-9dc1eec489e1"
      },
      "execution_count": 2,
      "outputs": [
        {
          "output_type": "stream",
          "name": "stdout",
          "text": [
            "{'date': 'Mon, 24 Mar 2025 01:01:39 GMT', 'server': 'uvicorn', 'content-length': '39', 'content-type': 'application/json'}\n"
          ]
        }
      ]
    },
    {
      "cell_type": "code",
      "source": [
        "import requests\n",
        "import time\n",
        "\n",
        "BASE_URL = \"http://35.200.185.69:8000/v2/autocomplete\"\n",
        "collected_names = set()"
      ],
      "metadata": {
        "collapsed": true,
        "id": "N9anXdzgWDiD"
      },
      "execution_count": 3,
      "outputs": []
    },
    {
      "cell_type": "code",
      "source": [
        "# Counters for tracking the number of successes and rate limit hits\n",
        "successful_requests = 0\n",
        "rate_limit_hits = 0"
      ],
      "metadata": {
        "id": "Xg3lwjCBvB8m"
      },
      "execution_count": 4,
      "outputs": []
    },
    {
      "cell_type": "code",
      "source": [
        "def fetch_results(query, max_retries=5):\n",
        "    \"\"\" Fetch results from the API for a given query with rate limit handling. \"\"\"\n",
        "    global successful_requests, rate_limit_hits\n",
        "\n",
        "    retries = 0\n",
        "    backoff = 40  # Initial backoff time (seconds)\n",
        "\n",
        "    while retries < max_retries:\n",
        "        try:\n",
        "            response = requests.get(f\"{BASE_URL}?query={query}\", timeout=5)\n",
        "\n",
        "            # Handle successful response\n",
        "            if response.status_code == 200:\n",
        "                successful_requests += 1  # Increment success counter\n",
        "                return response.json().get(\"results\")\n",
        "\n",
        "            # Handle rate limiting (HTTP 429)\n",
        "            elif response.status_code == 429:\n",
        "                rate_limit_hits += 1  # Increment rate limit hit counter\n",
        "                print(f\"Rate limit hit for query '{query}'. Retrying after {backoff}s...\")\n",
        "                time.sleep(backoff)\n",
        "                backoff *= 2  # Exponential backoff (1s → 2s → 4s → ...)\n",
        "                retries += 1\n",
        "\n",
        "            # Handle other errors (e.g., 500, 403)\n",
        "            else:\n",
        "                print(f\"Unexpected status {response.status_code} for query '{query}'.\")\n",
        "                break\n",
        "\n",
        "        # Handle timeouts or connection errors\n",
        "        except (requests.exceptions.Timeout, requests.exceptions.ConnectionError) as e:\n",
        "            print(f\"Request failed for query '{query}': {e}\")\n",
        "            time.sleep(backoff)\n",
        "            backoff *= 2\n",
        "            retries += 1\n",
        "\n",
        "    print(f\"Max retries reached for query '{query}'. Skipping...\")\n",
        "    return []"
      ],
      "metadata": {
        "id": "bR4nJNJotmki"
      },
      "execution_count": 5,
      "outputs": []
    },
    {
      "cell_type": "code",
      "source": [
        "def common_char(arr):\n",
        "  for i in range(len(arr[0])):\n",
        "    for j in range(1, len(arr)):\n",
        "      if i >= len(arr[j]) or arr[0][i] != arr[j][i]:\n",
        "        return arr[0][:i]\n",
        "  return arr[0]"
      ],
      "metadata": {
        "id": "5QlqM5v0vlcZ"
      },
      "execution_count": 6,
      "outputs": []
    },
    {
      "cell_type": "code",
      "source": [
        "alpha=['a','b','c','d','e','f','g','h','i','j','k','l','m','n','o','p','q','r','s','t','u','v','w','x','y','z']\n",
        "num=['0','1','2','3','4','5','6','7','8','9']\n",
        "special=[' ','+','-','.']"
      ],
      "metadata": {
        "id": "efsRZ_3Kv2tJ"
      },
      "execution_count": 7,
      "outputs": []
    },
    {
      "cell_type": "code",
      "source": [
        "v1=alpha\n",
        "v2=num+alpha\n",
        "v3=special+num+alpha"
      ],
      "metadata": {
        "id": "iIglmGmrxOAa"
      },
      "execution_count": 8,
      "outputs": []
    },
    {
      "cell_type": "code",
      "source": [
        "v=v2\n",
        "count=12"
      ],
      "metadata": {
        "id": "yii42nmVxtUX"
      },
      "execution_count": 9,
      "outputs": []
    },
    {
      "cell_type": "code",
      "source": [
        "def next_query(query):\n",
        "  if query[-1]!='z':\n",
        "    idx=v.index(query[-1])\n",
        "    query=query[:-1]+v[idx+1]\n",
        "    return query\n",
        "  else:\n",
        "    while query[-1]=='z':\n",
        "      if len(query)==1:\n",
        "        return \"-1\"\n",
        "      query=query[:-1]\n",
        "    idx=v.index(query[-1])\n",
        "    query=query[:-1]+v[idx+1]\n",
        "    return query\n"
      ],
      "metadata": {
        "id": "hR-MLwkivyur"
      },
      "execution_count": 10,
      "outputs": []
    },
    {
      "cell_type": "code",
      "source": [
        "query=v[0]\n",
        "early_list=[]\n",
        "api_request=0\n",
        "while True:\n",
        "    results = fetch_results(query)\n",
        "    api_request+=1\n",
        "    with open(\"output_v2.txt\",'a') as f:\n",
        "      for w in results:\n",
        "        if w not in early_list:\n",
        "          f.write(w+'\\n')\n",
        "      early_list=results\n",
        "    if len(results) == count:\n",
        "        query=common_char(results)\n",
        "        query+=results[-1][len(query)]\n",
        "    else:\n",
        "        query=next_query(query)\n",
        "        if query == \"-1\":\n",
        "          break\n",
        "\n",
        "print(f\"API requests: {api_request}\")"
      ],
      "metadata": {
        "id": "tMiFNv-Dp6RT",
        "colab": {
          "base_uri": "https://localhost:8080/"
        },
        "outputId": "0ccaff9d-3fbf-4b08-839d-b184597f1162"
      },
      "execution_count": 11,
      "outputs": [
        {
          "output_type": "stream",
          "name": "stdout",
          "text": [
            "Rate limit hit for query '19y'. Retrying after 40s...\n",
            "Rate limit hit for query '1azou'. Retrying after 40s...\n",
            "Rate limit hit for query '22'. Retrying after 40s...\n",
            "Rate limit hit for query '3abu5'. Retrying after 40s...\n",
            "Rate limit hit for query '3ap'. Retrying after 40s...\n",
            "Rate limit hit for query '48'. Retrying after 40s...\n",
            "Rate limit hit for query '5i'. Retrying after 40s...\n",
            "Rate limit hit for query '6j'. Retrying after 40s...\n",
            "Rate limit hit for query '7o'. Retrying after 40s...\n",
            "Rate limit hit for query '8s'. Retrying after 40s...\n",
            "Rate limit hit for query 'a8'. Retrying after 40s...\n",
            "Rate limit hit for query 'azd1c'. Retrying after 40s...\n",
            "Rate limit hit for query 'azd9'. Retrying after 40s...\n",
            "Rate limit hit for query 'b1'. Retrying after 40s...\n",
            "Rate limit hit for query 'c5'. Retrying after 40s...\n",
            "Rate limit hit for query 'desvu5'. Retrying after 40s...\n",
            "Rate limit hit for query 'desvuu'. Retrying after 40s...\n",
            "Rate limit hit for query 'dny'. Retrying after 40s...\n",
            "Rate limit hit for query 'el'. Retrying after 40s...\n",
            "Rate limit hit for query 'fz'. Retrying after 40s...\n",
            "Rate limit hit for query 'he'. Retrying after 40s...\n",
            "Rate limit hit for query 'huwd'. Retrying after 40s...\n",
            "Rate limit hit for query 'id'. Retrying after 40s...\n",
            "Rate limit hit for query 'jp'. Retrying after 40s...\n",
            "Rate limit hit for query 'l5'. Retrying after 40s...\n",
            "Rate limit hit for query 'llf4g'. Retrying after 40s...\n",
            "Rate limit hit for query 'llfb'. Retrying after 40s...\n",
            "Rate limit hit for query 'lo'. Retrying after 40s...\n",
            "Rate limit hit for query 'mn'. Retrying after 40s...\n",
            "Rate limit hit for query 'o1'. Retrying after 40s...\n",
            "Rate limit hit for query 'o9zt'. Retrying after 40s...\n",
            "Rate limit hit for query 'owb'. Retrying after 40s...\n",
            "Rate limit hit for query 'p8'. Retrying after 40s...\n",
            "Rate limit hit for query 'qf'. Retrying after 40s...\n",
            "Rate limit hit for query 'rec5v'. Retrying after 40s...\n",
            "Rate limit hit for query 'rej'. Retrying after 40s...\n",
            "Rate limit hit for query 'rxhjrbm'. Retrying after 40s...\n",
            "Rate limit hit for query 'rxhjt'. Retrying after 40s...\n",
            "Rate limit hit for query 's2w'. Retrying after 40s...\n",
            "Rate limit hit for query 'td'. Retrying after 40s...\n",
            "Rate limit hit for query 'teb'. Retrying after 40s...\n",
            "Rate limit hit for query 'tv'. Retrying after 40s...\n",
            "Rate limit hit for query 'udbjpx'. Retrying after 40s...\n",
            "Rate limit hit for query 'udq'. Retrying after 40s...\n",
            "Rate limit hit for query 'um31dw'. Retrying after 40s...\n",
            "Rate limit hit for query 'um3b'. Retrying after 40s...\n",
            "Rate limit hit for query 'umt'. Retrying after 40s...\n",
            "Rate limit hit for query 'veki4f'. Retrying after 40s...\n",
            "Rate limit hit for query 'vekih'. Retrying after 40s...\n",
            "Rate limit hit for query 'vez'. Retrying after 40s...\n",
            "Rate limit hit for query 'vrik'. Retrying after 40s...\n",
            "Rate limit hit for query 'w'. Retrying after 40s...\n",
            "Rate limit hit for query 'wtlwep'. Retrying after 40s...\n",
            "Rate limit hit for query 'wtx'. Retrying after 40s...\n",
            "Rate limit hit for query 'wyydx'. Retrying after 40s...\n",
            "Rate limit hit for query 'xn'. Retrying after 40s...\n",
            "Rate limit hit for query 'xyi'. Retrying after 40s...\n",
            "Rate limit hit for query 'xyx'. Retrying after 40s...\n",
            "Rate limit hit for query 'ybgnz'. Retrying after 40s...\n",
            "Rate limit hit for query 'yp'. Retrying after 40s...\n",
            "Rate limit hit for query 'yvvq'. Retrying after 40s...\n",
            "Rate limit hit for query 'zq'. Retrying after 40s...\n",
            "API requests: 3108\n"
          ]
        }
      ]
    },
    {
      "cell_type": "code",
      "source": [
        "# After calling the function, you can print the tracking statistics:\n",
        "print(f\"Successful requests: {successful_requests}\")\n",
        "print(f\"Rate limit errors: {rate_limit_hits}\")"
      ],
      "metadata": {
        "id": "PFfDMQvytsYl",
        "colab": {
          "base_uri": "https://localhost:8080/"
        },
        "outputId": "84dfb5dc-a693-487e-fbcb-c84b383b9035"
      },
      "execution_count": 12,
      "outputs": [
        {
          "output_type": "stream",
          "name": "stdout",
          "text": [
            "Successful requests: 3108\n",
            "Rate limit errors: 62\n"
          ]
        }
      ]
    },
    {
      "cell_type": "code",
      "source": [],
      "metadata": {
        "id": "YSi_mVw7YF33"
      },
      "execution_count": 12,
      "outputs": []
    }
  ]
}