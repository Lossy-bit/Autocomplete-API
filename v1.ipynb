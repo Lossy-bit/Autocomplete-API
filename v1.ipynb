{
  "cells": [
    {
      "cell_type": "code",
      "execution_count": null,
      "metadata": {
        "colab": {
          "base_uri": "https://localhost:8080/"
        },
        "id": "pj4t9OLVM8Y9",
        "outputId": "1078fd99-c244-4397-fb35-18cbe5dc19c1"
      },
      "outputs": [
        {
          "name": "stdout",
          "output_type": "stream",
          "text": [
            "{'version': 'v1', 'count': 10, 'results': ['aa', 'aabdknlvkc', 'aabrkcd', 'aadgdqrwdy', 'aagqg', 'aaiha', 'aainmxg', 'aajfebume', 'aajwv', 'aakfubvxv']}\n"
          ]
        }
      ],
      "source": [
        "# Importing the requests library to make HTTP requests\n",
        "import requests\n",
        "\n",
        "# Defining the base URL for the v1 autocomplete API\n",
        "base_url = \"http://35.200.185.69:8000/v1/autocomplete\"\n",
        "\n",
        "# Send a GET request to the API with the query <str> and print the JSON response\n",
        "response = requests.get(f\"{base_url}?query=a\")\n",
        "print(response.json())"
      ]
    },
    {
      "cell_type": "code",
      "execution_count": null,
      "metadata": {
        "colab": {
          "base_uri": "https://localhost:8080/"
        },
        "id": "Z4cQIThYM-BU",
        "outputId": "70eb5182-2a4d-44d9-9479-b38e63394f65"
      },
      "outputs": [
        {
          "name": "stdout",
          "output_type": "stream",
          "text": [
            "{'date': 'Sun, 23 Mar 2025 19:00:05 GMT', 'server': 'uvicorn', 'content-length': '39', 'content-type': 'application/json'}\n"
          ]
        }
      ],
      "source": [
        "# Send a GET request to the API with the query <str> and print the response headers\n",
        "response = requests.get(f\"{base_url}?query=A\")\n",
        "print(response.headers)"
      ]
    },
    {
      "cell_type": "code",
      "execution_count": null,
      "metadata": {
        "collapsed": true,
        "id": "N9anXdzgWDiD"
      },
      "outputs": [],
      "source": [
        "# Import libraries: requests for HTTP requests and time for delays\n",
        "import requests\n",
        "import time\n",
        "\n",
        "BASE_URL = \"http://35.200.185.69:8000/v1/autocomplete\""
      ]
    },
    {
      "cell_type": "code",
      "execution_count": 25,
      "metadata": {
        "id": "Xg3lwjCBvB8m"
      },
      "outputs": [],
      "source": [
        "# Counters for tracking the number of successes and rate limit hits\n",
        "successful_requests = 0\n",
        "rate_limit_hits = 0"
      ]
    },
    {
      "cell_type": "code",
      "execution_count": null,
      "metadata": {
        "id": "bR4nJNJotmki"
      },
      "outputs": [],
      "source": [
        "# Function to fetch autocomplete results from the API with retry logic for rate limits and errors\n",
        "def fetch_results(query, max_retries=5):\n",
        "    \"\"\" Fetch results from the API for a given query with rate limit handling.\n",
        "        Args:\\n\",\n",
        "            query (str): The query string to send to the API.,\n",
        "            max_retries (int): Maximum number of retry attempts for failed requests (default: 5),\n",
        "        Returns:\n",
        "            list: List of results from the API, or empty list if request fails after retries.\n",
        "    \"\"\"\n",
        "    global successful_requests, rate_limit_hits\n",
        "\n",
        "    retries = 0\n",
        "    backoff = 16  # Initial backoff time (seconds)\n",
        "\n",
        "    while retries < max_retries:\n",
        "        try:\n",
        "            response = requests.get(f\"{BASE_URL}?query={query}\", timeout=5)\n",
        "\n",
        "            # Handle successful response\n",
        "            if response.status_code == 200:\n",
        "                successful_requests += 1  # Increment success counter\n",
        "                return response.json().get(\"results\")\n",
        "\n",
        "            # Handle rate limiting (HTTP 429)\n",
        "            elif response.status_code == 429:\n",
        "                rate_limit_hits += 1  # Increment rate limit hit counter\n",
        "                print(f\"Rate limit hit for query '{query}'. Retrying after {backoff}s...\")\n",
        "                time.sleep(backoff)\n",
        "                backoff *= 2  # Exponential backoff (16s → 32s → 64s → ...)\n",
        "                retries += 1\n",
        "\n",
        "            # Handle other errors (e.g., 500, 403)\n",
        "            else:\n",
        "                print(f\"Unexpected status {response.status_code} for query '{query}'.\")\n",
        "                break\n",
        "\n",
        "        # Handle timeouts or connection errors\n",
        "        except (requests.exceptions.Timeout, requests.exceptions.ConnectionError) as e:\n",
        "            print(f\"Request failed for query '{query}': {e}\")\n",
        "            time.sleep(backoff)\n",
        "            backoff *= 2\n",
        "            retries += 1\n",
        "\n",
        "    print(f\"Max retries reached for query '{query}'. Skipping...\")\n",
        "    return []"
      ]
    },
    {
      "cell_type": "code",
      "execution_count": null,
      "metadata": {
        "id": "5QlqM5v0vlcZ"
      },
      "outputs": [],
      "source": [
        "# Function to find the common prefix among a list of strings\n",
        "def common_char(arr):\n",
        "  \"\"\" Find the common prefix of all strings in the array.\n",
        "      Args:\n",
        "          arr (list): List of strings to compare.\n",
        "      Returns:\n",
        "          str: The common prefix, or the first string if all match fully.\n",
        "  \"\"\"\n",
        "  for i in range(len(arr[0])):\n",
        "    for j in range(1, len(arr)):\n",
        "      if i >= len(arr[j]) or arr[0][i] != arr[j][i]:\n",
        "        return arr[0][:i]\n",
        "  return arr[0]"
      ]
    },
    {
      "cell_type": "code",
      "execution_count": null,
      "metadata": {
        "id": "efsRZ_3Kv2tJ"
      },
      "outputs": [],
      "source": [
        "# Define character sets for generating queries\n",
        "alpha=['a','b','c','d','e','f','g','h','i','j','k','l','m','n','o','p','q','r','s','t','u','v','w','x','y','z']\n",
        "num=['0','1','2','3','4','5','6','7','8','9']\n",
        "special=[' ','+','-','.']"
      ]
    },
    {
      "cell_type": "code",
      "execution_count": null,
      "metadata": {
        "id": "iIglmGmrxOAa"
      },
      "outputs": [],
      "source": [
        "v1=alpha                # Define character sets for generating queries\n",
        "v2=num+alpha            # Numbers and letters\n",
        "v3=special+num+alpha    # Special characters, numbers, and letters"
      ]
    },
    {
      "cell_type": "code",
      "execution_count": null,
      "metadata": {
        "id": "yii42nmVxtUX"
      },
      "outputs": [],
      "source": [
        "# Set the vocabulary to use (letters)\n",
        "v=v1"
      ]
    },
    {
      "cell_type": "code",
      "execution_count": null,
      "metadata": {
        "id": "hR-MLwkivyur"
      },
      "outputs": [],
      "source": [
        "def next_query(query):\n",
        "  \"\"\" Generate the next query by incrementing the last character or rolling over.\\n\",\n",
        "      Args:\n",
        "          query (str): Current query string.\n",
        "      Returns:\n",
        "          str: Next query string, or '-1' if all possibilities are exhausted.\n",
        "  \"\"\"\n",
        "  if query[-1]!='z':          # If last character isn't 'z', increment it.\n",
        "    idx=v.index(query[-1])\n",
        "    query=query[:-1]+v[idx+1]\n",
        "    return query\n",
        "  else:\n",
        "    while query[-1]=='z':     # If last character is 'z', roll over to the next position\n",
        "      if len(query)==1:\n",
        "        return \"-1\"\n",
        "      query=query[:-1]\n",
        "    idx=v.index(query[-1])\n",
        "    query=query[:-1]+v[idx+1]\n",
        "    return query\n"
      ]
    },
    {
      "cell_type": "code",
      "execution_count": null,
      "metadata": {
        "colab": {
          "base_uri": "https://localhost:8080/"
        },
        "id": "tMiFNv-Dp6RT",
        "outputId": "90e732d3-7109-4449-8a6d-c803a7879b19"
      },
      "outputs": [
        {
          "name": "stdout",
          "output_type": "stream",
          "text": [
            "Rate limit hit for query 'ahu'. Retrying after 16s...\n",
            "Rate limit hit for query 'aow'. Retrying after 16s...\n",
            "Rate limit hit for query 'awz'. Retrying after 16s...\n",
            "Rate limit hit for query 'bfw'. Retrying after 16s...\n",
            "Rate limit hit for query 'boq'. Retrying after 16s...\n",
            "Rate limit hit for query 'bwv'. Retrying after 16s...\n",
            "Rate limit hit for query 'cf'. Retrying after 16s...\n",
            "Rate limit hit for query 'cmz'. Retrying after 16s...\n",
            "Rate limit hit for query 'cuv'. Retrying after 16s...\n",
            "Rate limit hit for query 'dby'. Retrying after 16s...\n",
            "Rate limit hit for query 'dmr'. Retrying after 16s...\n",
            "Rate limit hit for query 'dsy'. Retrying after 16s...\n",
            "Rate limit hit for query 'eaq'. Retrying after 16s...\n",
            "Rate limit hit for query 'eaznwou'. Retrying after 16s...\n",
            "Rate limit hit for query 'ecs'. Retrying after 16s...\n",
            "Rate limit hit for query 'efikz'. Retrying after 16s...\n",
            "Rate limit hit for query 'efixx'. Retrying after 16s...\n",
            "Rate limit hit for query 'el'. Retrying after 16s...\n",
            "Rate limit hit for query 'eqbey'. Retrying after 16s...\n",
            "Rate limit hit for query 'eqbq'. Retrying after 16s...\n",
            "Rate limit hit for query 'ess'. Retrying after 16s...\n",
            "Rate limit hit for query 'fbm'. Retrying after 16s...\n",
            "Rate limit hit for query 'fhw'. Retrying after 16s...\n",
            "Rate limit hit for query 'fpy'. Retrying after 16s...\n",
            "Rate limit hit for query 'fzo'. Retrying after 16s...\n",
            "Rate limit hit for query 'gfax'. Retrying after 16s...\n",
            "Rate limit hit for query 'gfmu'. Retrying after 16s...\n",
            "Rate limit hit for query 'ggcog'. Retrying after 16s...\n",
            "Rate limit hit for query 'ggcoy'. Retrying after 16s...\n",
            "Rate limit hit for query 'gkz'. Retrying after 16s...\n",
            "Rate limit hit for query 'gvo'. Retrying after 16s...\n",
            "Rate limit hit for query 'hc'. Retrying after 16s...\n",
            "Rate limit hit for query 'hekw'. Retrying after 16s...\n",
            "Rate limit hit for query 'hezz'. Retrying after 16s...\n",
            "Rate limit hit for query 'hny'. Retrying after 16s...\n",
            "Rate limit hit for query 'hvw'. Retrying after 16s...\n",
            "Rate limit hit for query 'ict'. Retrying after 16s...\n",
            "Rate limit hit for query 'ikz'. Retrying after 16s...\n",
            "Rate limit hit for query 'irylat'. Retrying after 16s...\n",
            "Rate limit hit for query 'irylnn'. Retrying after 16s...\n",
            "Rate limit hit for query 'ity'. Retrying after 16s...\n",
            "Rate limit hit for query 'jbs'. Retrying after 16s...\n",
            "Rate limit hit for query 'ji'. Retrying after 16s...\n",
            "Rate limit hit for query 'joqzdby'. Retrying after 16s...\n",
            "Rate limit hit for query 'joqzdxo'. Retrying after 16s...\n",
            "Rate limit hit for query 'jpmqehy'. Retrying after 16s...\n",
            "Rate limit hit for query 'jpmqewv'. Retrying after 16s...\n",
            "Rate limit hit for query 'jsz'. Retrying after 16s...\n",
            "Rate limit hit for query 'jzv'. Retrying after 16s...\n",
            "Rate limit hit for query 'kiu'. Retrying after 16s...\n",
            "Rate limit hit for query 'krv'. Retrying after 16s...\n",
            "Rate limit hit for query 'kyu'. Retrying after 16s...\n",
            "Rate limit hit for query 'lguarbs'. Retrying after 16s...\n",
            "Rate limit hit for query 'lguarrs'. Retrying after 16s...\n",
            "Rate limit hit for query 'ljo'. Retrying after 16s...\n",
            "Rate limit hit for query 'lqy'. Retrying after 16s...\n",
            "Rate limit hit for query 'lrmp'. Retrying after 16s...\n",
            "Rate limit hit for query 'lt'. Retrying after 16s...\n",
            "Rate limit hit for query 'mb'. Retrying after 16s...\n",
            "Rate limit hit for query 'mgg'. Retrying after 16s...\n",
            "Rate limit hit for query 'mgq'. Retrying after 16s...\n",
            "Rate limit hit for query 'miu'. Retrying after 16s...\n",
            "Rate limit hit for query 'mpm'. Retrying after 16s...\n",
            "Rate limit hit for query 'muaqxcp'. Retrying after 16s...\n",
            "Rate limit hit for query 'muaqxus'. Retrying after 16s...\n",
            "Rate limit hit for query 'mwu'. Retrying after 16s...\n",
            "Rate limit hit for query 'neu'. Retrying after 16s...\n",
            "Rate limit hit for query 'nfow'. Retrying after 16s...\n",
            "Rate limit hit for query 'nhm'. Retrying after 16s...\n",
            "Rate limit hit for query 'npv'. Retrying after 16s...\n",
            "Rate limit hit for query 'nwe'. Retrying after 16s...\n",
            "Rate limit hit for query 'nwty'. Retrying after 16s...\n",
            "Rate limit hit for query 'oat'. Retrying after 16s...\n",
            "Rate limit hit for query 'ojs'. Retrying after 16s...\n",
            "Rate limit hit for query 'osw'. Retrying after 16s...\n",
            "Rate limit hit for query 'pbs'. Retrying after 16s...\n",
            "Rate limit hit for query 'piv'. Retrying after 16s...\n",
            "Rate limit hit for query 'pkpw'. Retrying after 16s...\n",
            "Rate limit hit for query 'plv'. Retrying after 16s...\n",
            "Rate limit hit for query 'pqcni'. Retrying after 16s...\n",
            "Rate limit hit for query 'pqcnuy'. Retrying after 16s...\n",
            "Rate limit hit for query 'pvv'. Retrying after 16s...\n",
            "Rate limit hit for query 'pyhy'. Retrying after 16s...\n",
            "Rate limit hit for query 'pyxz'. Retrying after 16s...\n",
            "Rate limit hit for query 'qeu'. Retrying after 16s...\n",
            "Rate limit hit for query 'qmv'. Retrying after 16s...\n",
            "Rate limit hit for query 'qwn'. Retrying after 16s...\n",
            "Rate limit hit for query 'rbwphhx'. Retrying after 16s...\n",
            "Rate limit hit for query 'rbwphwx'. Retrying after 16s...\n",
            "Rate limit hit for query 'rgn'. Retrying after 16s...\n",
            "Rate limit hit for query 'rmw'. Retrying after 16s...\n",
            "Rate limit hit for query 'rvz'. Retrying after 16s...\n",
            "Rate limit hit for query 'sansky'. Retrying after 16s...\n",
            "Rate limit hit for query 'sanu'. Retrying after 16s...\n",
            "Rate limit hit for query 'sho'. Retrying after 16s...\n",
            "Rate limit hit for query 'shurjpp'. Retrying after 16s...\n",
            "Rate limit hit for query 'shurr'. Retrying after 16s...\n",
            "Rate limit hit for query 'spq'. Retrying after 16s...\n",
            "Rate limit hit for query 'svz'. Retrying after 16s...\n",
            "Rate limit hit for query 'tfw'. Retrying after 16s...\n",
            "Rate limit hit for query 'tjg'. Retrying after 16s...\n",
            "Rate limit hit for query 'tjuv'. Retrying after 16s...\n",
            "Rate limit hit for query 'tmtfv'. Retrying after 16s...\n",
            "Rate limit hit for query 'tmtwx'. Retrying after 16s...\n",
            "Rate limit hit for query 'tst'. Retrying after 16s...\n",
            "Rate limit hit for query 'tzs'. Retrying after 16s...\n",
            "Rate limit hit for query 'uki'. Retrying after 16s...\n",
            "Rate limit hit for query 'ury'. Retrying after 16s...\n",
            "Rate limit hit for query 'vbq'. Retrying after 16s...\n",
            "Rate limit hit for query 'vi'. Retrying after 16s...\n",
            "Rate limit hit for query 'vqy'. Retrying after 16s...\n",
            "Rate limit hit for query 'vyq'. Retrying after 16s...\n",
            "Rate limit hit for query 'wfr'. Retrying after 16s...\n",
            "Rate limit hit for query 'wnx'. Retrying after 16s...\n",
            "Rate limit hit for query 'wuy'. Retrying after 16s...\n",
            "Rate limit hit for query 'xddk'. Retrying after 16s...\n",
            "Rate limit hit for query 'xdrx'. Retrying after 16s...\n",
            "Rate limit hit for query 'xhx'. Retrying after 16s...\n",
            "Rate limit hit for query 'xqo'. Retrying after 16s...\n",
            "Rate limit hit for query 'xxx'. Retrying after 16s...\n",
            "Rate limit hit for query 'yfr'. Retrying after 16s...\n",
            "Rate limit hit for query 'yhfwju'. Retrying after 16s...\n",
            "Rate limit hit for query 'yhn'. Retrying after 16s...\n",
            "Rate limit hit for query 'ypn'. Retrying after 16s...\n",
            "Rate limit hit for query 'yws'. Retrying after 16s...\n",
            "Rate limit hit for query 'zex'. Retrying after 16s...\n",
            "Rate limit hit for query 'zmy'. Retrying after 16s...\n",
            "Rate limit hit for query 'zty'. Retrying after 16s...\n",
            "API requests: 12897\n"
          ]
        }
      ],
      "source": [
        "# Main loop to fetch autocomplete suggestions and write them to a file\n",
        "query=v[0]      # Start with the first character in the vocabulary ('a')\n",
        "early_list=[]   # Store results from the previous query to avoid duplicates\n",
        "api_request=0   # Counter for total API requests\n",
        "while True:\n",
        "    # Fetch results for the current query\n",
        "    results = fetch_results(query)\n",
        "    api_request+=1\n",
        "\n",
        "    # Write new results to 'output_v1.txt', avoiding duplicates from the last call\n",
        "    with open(\"output.txt\",'a') as f:\n",
        "      for w in results:\n",
        "        if w not in early_list:\n",
        "          f.write(w+'\\n')\n",
        "      early_list=results      # Update the previous results list\n",
        "\n",
        "    # If the API returns the expected number of results, refine the query\n",
        "    if len(results) == 10:\n",
        "        query=common_char(results)\n",
        "        query+=results[-1][len(query)]    # Append the next character from the last result\n",
        "    else:\n",
        "        # Move to the next query in the sequence\n",
        "        query=next_query(query)\n",
        "        if query == \"-1\":     # If no more queries are possible, exit the loop\n",
        "          break\n",
        "# Print the total number of API requests made\n",
        "print(f\"API requests: {api_request}\")"
      ]
    },
    {
      "cell_type": "code",
      "execution_count": 42,
      "metadata": {
        "colab": {
          "base_uri": "https://localhost:8080/"
        },
        "id": "PFfDMQvytsYl",
        "outputId": "b6b2968c-a2fa-4cbd-9be3-f49bb0918810"
      },
      "outputs": [
        {
          "name": "stdout",
          "output_type": "stream",
          "text": [
            "Successful requests: 12916\n",
            "Rate limit errors: 128\n"
          ]
        }
      ],
      "source": [
        "# After calling the function, you can print the tracking statistics:\n",
        "print(f\"Successful requests: {successful_requests}\")\n",
        "print(f\"Rate limit errors: {rate_limit_hits}\")"
      ]
    },
    {
      "cell_type": "code",
      "execution_count": null,
      "metadata": {
        "id": "YSi_mVw7YF33"
      },
      "outputs": [],
      "source": []
    }
  ],
  "metadata": {
    "colab": {
      "provenance": []
    },
    "kernelspec": {
      "display_name": "Python 3",
      "name": "python3"
    },
    "language_info": {
      "name": "python"
    }
  },
  "nbformat": 4,
  "nbformat_minor": 0
}
