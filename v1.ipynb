{
  "cells": [
    {
      "cell_type": "code",
      "execution_count": 35,
      "metadata": {
        "colab": {
          "base_uri": "https://localhost:8080/"
        },
        "id": "pj4t9OLVM8Y9",
        "outputId": "1078fd99-c244-4397-fb35-18cbe5dc19c1"
      },
      "outputs": [
        {
          "name": "stdout",
          "output_type": "stream",
          "text": [
            "{'version': 'v1', 'count': 10, 'results': ['aa', 'aabdknlvkc', 'aabrkcd', 'aadgdqrwdy', 'aagqg', 'aaiha', 'aainmxg', 'aajfebume', 'aajwv', 'aakfubvxv']}\n"
          ]
        }
      ],
      "source": [
        "import requests\n",
        "\n",
        "base_url = \"http://35.200.185.69:8000/v1/autocomplete\"\n",
        "response = requests.get(f\"{base_url}?query=a\")\n",
        "print(response.json())"
      ]
    },
    {
      "cell_type": "code",
      "execution_count": 22,
      "metadata": {
        "colab": {
          "base_uri": "https://localhost:8080/"
        },
        "id": "E0HhIdD14Fh9",
        "outputId": "10192abe-66db-4d9a-cc67-0e4b8914974f"
      },
      "outputs": [
        {
          "name": "stdout",
          "output_type": "stream",
          "text": [
            "{'version': 'v1', 'count': 1, 'results': ['aaokqptg']}\n"
          ]
        }
      ],
      "source": [
        "import requests\n",
        "\n",
        "base_url = \"http://35.200.185.69:8000/v1/autocomplete\"\n",
        "response = requests.get(f\"{base_url}?query=aao\")\n",
        "print(response.json())"
      ]
    },
    {
      "cell_type": "code",
      "execution_count": 23,
      "metadata": {
        "colab": {
          "base_uri": "https://localhost:8080/"
        },
        "id": "Z4cQIThYM-BU",
        "outputId": "70eb5182-2a4d-44d9-9479-b38e63394f65"
      },
      "outputs": [
        {
          "name": "stdout",
          "output_type": "stream",
          "text": [
            "{'date': 'Sun, 23 Mar 2025 19:00:05 GMT', 'server': 'uvicorn', 'content-length': '39', 'content-type': 'application/json'}\n"
          ]
        }
      ],
      "source": [
        "response = requests.get(f\"{base_url}?query=A\")\n",
        "print(response.headers)"
      ]
    },
    {
      "cell_type": "code",
      "execution_count": 24,
      "metadata": {
        "collapsed": true,
        "id": "N9anXdzgWDiD"
      },
      "outputs": [],
      "source": [
        "import requests\n",
        "import time\n",
        "\n",
        "BASE_URL = \"http://35.200.185.69:8000/v1/autocomplete\"\n",
        "collected_names = set()"
      ]
    },
    {
      "cell_type": "code",
      "execution_count": 25,
      "metadata": {
        "id": "Xg3lwjCBvB8m"
      },
      "outputs": [],
      "source": [
        "# Counters for tracking the number of successes and rate limit hits\n",
        "successful_requests = 0\n",
        "rate_limit_hits = 0"
      ]
    },
    {
      "cell_type": "code",
      "execution_count": 26,
      "metadata": {
        "id": "bR4nJNJotmki"
      },
      "outputs": [],
      "source": [
        "def fetch_results(query, max_retries=5):\n",
        "    \"\"\" Fetch results from the API for a given query with rate limit handling. \"\"\"\n",
        "    global successful_requests, rate_limit_hits\n",
        "\n",
        "    retries = 0\n",
        "    backoff = 16  # Initial backoff time (seconds)\n",
        "\n",
        "    while retries < max_retries:\n",
        "        try:\n",
        "            response = requests.get(f\"{BASE_URL}?query={query}\", timeout=5)\n",
        "\n",
        "            # Handle successful response\n",
        "            if response.status_code == 200:\n",
        "                successful_requests += 1  # Increment success counter\n",
        "                return response.json().get(\"results\")\n",
        "\n",
        "            # Handle rate limiting (HTTP 429)\n",
        "            elif response.status_code == 429:\n",
        "                rate_limit_hits += 1  # Increment rate limit hit counter\n",
        "                print(f\"Rate limit hit for query '{query}'. Retrying after {backoff}s...\")\n",
        "                time.sleep(backoff)\n",
        "                backoff *= 2  # Exponential backoff (1s → 2s → 4s → ...)\n",
        "                retries += 1\n",
        "\n",
        "            # Handle other errors (e.g., 500, 403)\n",
        "            else:\n",
        "                print(f\"Unexpected status {response.status_code} for query '{query}'.\")\n",
        "                break\n",
        "\n",
        "        # Handle timeouts or connection errors\n",
        "        except (requests.exceptions.Timeout, requests.exceptions.ConnectionError) as e:\n",
        "            print(f\"Request failed for query '{query}': {e}\")\n",
        "            time.sleep(backoff)\n",
        "            backoff *= 2\n",
        "            retries += 1\n",
        "\n",
        "    print(f\"Max retries reached for query '{query}'. Skipping...\")\n",
        "    return []"
      ]
    },
    {
      "cell_type": "code",
      "execution_count": 36,
      "metadata": {
        "id": "5QlqM5v0vlcZ"
      },
      "outputs": [],
      "source": [
        "def common_char(arr):\n",
        "  for i in range(len(arr[0])):\n",
        "    for j in range(1, len(arr)):\n",
        "      if i >= len(arr[j]) or arr[0][i] != arr[j][i]:\n",
        "        return arr[0][:i]\n",
        "  return arr[0]"
      ]
    },
    {
      "cell_type": "code",
      "execution_count": 37,
      "metadata": {
        "id": "efsRZ_3Kv2tJ"
      },
      "outputs": [],
      "source": [
        "alpha=['a','b','c','d','e','f','g','h','i','j','k','l','m','n','o','p','q','r','s','t','u','v','w','x','y','z']\n",
        "num=['0','1','2','3','4','5','6','7','8','9']\n",
        "special=[' ','+','-','.']"
      ]
    },
    {
      "cell_type": "code",
      "execution_count": 38,
      "metadata": {
        "id": "iIglmGmrxOAa"
      },
      "outputs": [],
      "source": [
        "v1=alpha\n",
        "v2=num+alpha\n",
        "v3=alpha+num+special"
      ]
    },
    {
      "cell_type": "code",
      "execution_count": 39,
      "metadata": {
        "id": "yii42nmVxtUX"
      },
      "outputs": [],
      "source": [
        "v=v1"
      ]
    },
    {
      "cell_type": "code",
      "execution_count": null,
      "metadata": {
        "id": "hR-MLwkivyur"
      },
      "outputs": [],
      "source": [
        "def next_query(query):\n",
        "  if query[-1]!='z':\n",
        "    idx=v.index(query[-1])\n",
        "    query=query[:-1]+v[idx+1]\n",
        "    return query\n",
        "  else:\n",
        "    while query[-1]=='z':\n",
        "      if len(query)==1:\n",
        "        return \"-1\"\n",
        "      query=query[:-1]\n",
        "    idx=v.index(query[-1])\n",
        "    query=query[:-1]+v[idx+1]\n",
        "    return query\n"
      ]
    },
    {
      "cell_type": "code",
      "execution_count": 41,
      "metadata": {
        "colab": {
          "base_uri": "https://localhost:8080/"
        },
        "id": "tMiFNv-Dp6RT",
        "outputId": "90e732d3-7109-4449-8a6d-c803a7879b19"
      },
      "outputs": [
        {
          "name": "stdout",
          "output_type": "stream",
          "text": [
            "Rate limit hit for query 'ahu'. Retrying after 16s...\n",
            "Rate limit hit for query 'aow'. Retrying after 16s...\n",
            "Rate limit hit for query 'awz'. Retrying after 16s...\n",
            "Rate limit hit for query 'bfw'. Retrying after 16s...\n",
            "Rate limit hit for query 'boq'. Retrying after 16s...\n",
            "Rate limit hit for query 'bwv'. Retrying after 16s...\n",
            "Rate limit hit for query 'cf'. Retrying after 16s...\n",
            "Rate limit hit for query 'cmz'. Retrying after 16s...\n",
            "Rate limit hit for query 'cuv'. Retrying after 16s...\n",
            "Rate limit hit for query 'dby'. Retrying after 16s...\n",
            "Rate limit hit for query 'dmr'. Retrying after 16s...\n",
            "Rate limit hit for query 'dsy'. Retrying after 16s...\n",
            "Rate limit hit for query 'eaq'. Retrying after 16s...\n",
            "Rate limit hit for query 'eaznwou'. Retrying after 16s...\n",
            "Rate limit hit for query 'ecs'. Retrying after 16s...\n",
            "Rate limit hit for query 'efikz'. Retrying after 16s...\n",
            "Rate limit hit for query 'efixx'. Retrying after 16s...\n",
            "Rate limit hit for query 'el'. Retrying after 16s...\n",
            "Rate limit hit for query 'eqbey'. Retrying after 16s...\n",
            "Rate limit hit for query 'eqbq'. Retrying after 16s...\n",
            "Rate limit hit for query 'ess'. Retrying after 16s...\n",
            "Rate limit hit for query 'fbm'. Retrying after 16s...\n",
            "Rate limit hit for query 'fhw'. Retrying after 16s...\n",
            "Rate limit hit for query 'fpy'. Retrying after 16s...\n",
            "Rate limit hit for query 'fzo'. Retrying after 16s...\n",
            "Rate limit hit for query 'gfax'. Retrying after 16s...\n",
            "Rate limit hit for query 'gfmu'. Retrying after 16s...\n",
            "Rate limit hit for query 'ggcog'. Retrying after 16s...\n",
            "Rate limit hit for query 'ggcoy'. Retrying after 16s...\n",
            "Rate limit hit for query 'gkz'. Retrying after 16s...\n",
            "Rate limit hit for query 'gvo'. Retrying after 16s...\n",
            "Rate limit hit for query 'hc'. Retrying after 16s...\n",
            "Rate limit hit for query 'hekw'. Retrying after 16s...\n",
            "Rate limit hit for query 'hezz'. Retrying after 16s...\n",
            "Rate limit hit for query 'hny'. Retrying after 16s...\n",
            "Rate limit hit for query 'hvw'. Retrying after 16s...\n",
            "Rate limit hit for query 'ict'. Retrying after 16s...\n",
            "Rate limit hit for query 'ikz'. Retrying after 16s...\n",
            "Rate limit hit for query 'irylat'. Retrying after 16s...\n",
            "Rate limit hit for query 'irylnn'. Retrying after 16s...\n",
            "Rate limit hit for query 'ity'. Retrying after 16s...\n",
            "Rate limit hit for query 'jbs'. Retrying after 16s...\n",
            "Rate limit hit for query 'ji'. Retrying after 16s...\n",
            "Rate limit hit for query 'joqzdby'. Retrying after 16s...\n",
            "Rate limit hit for query 'joqzdxo'. Retrying after 16s...\n",
            "Rate limit hit for query 'jpmqehy'. Retrying after 16s...\n",
            "Rate limit hit for query 'jpmqewv'. Retrying after 16s...\n",
            "Rate limit hit for query 'jsz'. Retrying after 16s...\n",
            "Rate limit hit for query 'jzv'. Retrying after 16s...\n",
            "Rate limit hit for query 'kiu'. Retrying after 16s...\n",
            "Rate limit hit for query 'krv'. Retrying after 16s...\n",
            "Rate limit hit for query 'kyu'. Retrying after 16s...\n",
            "Rate limit hit for query 'lguarbs'. Retrying after 16s...\n",
            "Rate limit hit for query 'lguarrs'. Retrying after 16s...\n",
            "Rate limit hit for query 'ljo'. Retrying after 16s...\n",
            "Rate limit hit for query 'lqy'. Retrying after 16s...\n",
            "Rate limit hit for query 'lrmp'. Retrying after 16s...\n",
            "Rate limit hit for query 'lt'. Retrying after 16s...\n",
            "Rate limit hit for query 'mb'. Retrying after 16s...\n",
            "Rate limit hit for query 'mgg'. Retrying after 16s...\n",
            "Rate limit hit for query 'mgq'. Retrying after 16s...\n",
            "Rate limit hit for query 'miu'. Retrying after 16s...\n",
            "Rate limit hit for query 'mpm'. Retrying after 16s...\n",
            "Rate limit hit for query 'muaqxcp'. Retrying after 16s...\n",
            "Rate limit hit for query 'muaqxus'. Retrying after 16s...\n",
            "Rate limit hit for query 'mwu'. Retrying after 16s...\n",
            "Rate limit hit for query 'neu'. Retrying after 16s...\n",
            "Rate limit hit for query 'nfow'. Retrying after 16s...\n",
            "Rate limit hit for query 'nhm'. Retrying after 16s...\n",
            "Rate limit hit for query 'npv'. Retrying after 16s...\n",
            "Rate limit hit for query 'nwe'. Retrying after 16s...\n",
            "Rate limit hit for query 'nwty'. Retrying after 16s...\n",
            "Rate limit hit for query 'oat'. Retrying after 16s...\n",
            "Rate limit hit for query 'ojs'. Retrying after 16s...\n",
            "Rate limit hit for query 'osw'. Retrying after 16s...\n",
            "Rate limit hit for query 'pbs'. Retrying after 16s...\n",
            "Rate limit hit for query 'piv'. Retrying after 16s...\n",
            "Rate limit hit for query 'pkpw'. Retrying after 16s...\n",
            "Rate limit hit for query 'plv'. Retrying after 16s...\n",
            "Rate limit hit for query 'pqcni'. Retrying after 16s...\n",
            "Rate limit hit for query 'pqcnuy'. Retrying after 16s...\n",
            "Rate limit hit for query 'pvv'. Retrying after 16s...\n",
            "Rate limit hit for query 'pyhy'. Retrying after 16s...\n",
            "Rate limit hit for query 'pyxz'. Retrying after 16s...\n",
            "Rate limit hit for query 'qeu'. Retrying after 16s...\n",
            "Rate limit hit for query 'qmv'. Retrying after 16s...\n",
            "Rate limit hit for query 'qwn'. Retrying after 16s...\n",
            "Rate limit hit for query 'rbwphhx'. Retrying after 16s...\n",
            "Rate limit hit for query 'rbwphwx'. Retrying after 16s...\n",
            "Rate limit hit for query 'rgn'. Retrying after 16s...\n",
            "Rate limit hit for query 'rmw'. Retrying after 16s...\n",
            "Rate limit hit for query 'rvz'. Retrying after 16s...\n",
            "Rate limit hit for query 'sansky'. Retrying after 16s...\n",
            "Rate limit hit for query 'sanu'. Retrying after 16s...\n",
            "Rate limit hit for query 'sho'. Retrying after 16s...\n",
            "Rate limit hit for query 'shurjpp'. Retrying after 16s...\n",
            "Rate limit hit for query 'shurr'. Retrying after 16s...\n",
            "Rate limit hit for query 'spq'. Retrying after 16s...\n",
            "Rate limit hit for query 'svz'. Retrying after 16s...\n",
            "Rate limit hit for query 'tfw'. Retrying after 16s...\n",
            "Rate limit hit for query 'tjg'. Retrying after 16s...\n",
            "Rate limit hit for query 'tjuv'. Retrying after 16s...\n",
            "Rate limit hit for query 'tmtfv'. Retrying after 16s...\n",
            "Rate limit hit for query 'tmtwx'. Retrying after 16s...\n",
            "Rate limit hit for query 'tst'. Retrying after 16s...\n",
            "Rate limit hit for query 'tzs'. Retrying after 16s...\n",
            "Rate limit hit for query 'uki'. Retrying after 16s...\n",
            "Rate limit hit for query 'ury'. Retrying after 16s...\n",
            "Rate limit hit for query 'vbq'. Retrying after 16s...\n",
            "Rate limit hit for query 'vi'. Retrying after 16s...\n",
            "Rate limit hit for query 'vqy'. Retrying after 16s...\n",
            "Rate limit hit for query 'vyq'. Retrying after 16s...\n",
            "Rate limit hit for query 'wfr'. Retrying after 16s...\n",
            "Rate limit hit for query 'wnx'. Retrying after 16s...\n",
            "Rate limit hit for query 'wuy'. Retrying after 16s...\n",
            "Rate limit hit for query 'xddk'. Retrying after 16s...\n",
            "Rate limit hit for query 'xdrx'. Retrying after 16s...\n",
            "Rate limit hit for query 'xhx'. Retrying after 16s...\n",
            "Rate limit hit for query 'xqo'. Retrying after 16s...\n",
            "Rate limit hit for query 'xxx'. Retrying after 16s...\n",
            "Rate limit hit for query 'yfr'. Retrying after 16s...\n",
            "Rate limit hit for query 'yhfwju'. Retrying after 16s...\n",
            "Rate limit hit for query 'yhn'. Retrying after 16s...\n",
            "Rate limit hit for query 'ypn'. Retrying after 16s...\n",
            "Rate limit hit for query 'yws'. Retrying after 16s...\n",
            "Rate limit hit for query 'zex'. Retrying after 16s...\n",
            "Rate limit hit for query 'zmy'. Retrying after 16s...\n",
            "Rate limit hit for query 'zty'. Retrying after 16s...\n",
            "API requests: 12897\n"
          ]
        }
      ],
      "source": [
        "query=v[0]\n",
        "early_list=[]\n",
        "api_request=0\n",
        "while True:\n",
        "    results = fetch_results(query)\n",
        "    api_request+=1\n",
        "    with open(\"output.txt\",'a') as f:\n",
        "      for w in results:\n",
        "        if w not in early_list:\n",
        "          f.write(w+'\\n')\n",
        "      early_list=results\n",
        "    if len(results) == 10:\n",
        "        query=common_char(results)\n",
        "        query+=results[-1][len(query)]\n",
        "    else:\n",
        "        query=next_query(query)\n",
        "        if query == \"-1\":\n",
        "          break\n",
        "\n",
        "print(f\"API requests: {api_request}\")"
      ]
    },
    {
      "cell_type": "code",
      "execution_count": 42,
      "metadata": {
        "colab": {
          "base_uri": "https://localhost:8080/"
        },
        "id": "PFfDMQvytsYl",
        "outputId": "b6b2968c-a2fa-4cbd-9be3-f49bb0918810"
      },
      "outputs": [
        {
          "name": "stdout",
          "output_type": "stream",
          "text": [
            "Successful requests: 12916\n",
            "Rate limit errors: 128\n"
          ]
        }
      ],
      "source": [
        "# After calling the function, you can print the tracking statistics:\n",
        "print(f\"Successful requests: {successful_requests}\")\n",
        "print(f\"Rate limit errors: {rate_limit_hits}\")"
      ]
    },
    {
      "cell_type": "code",
      "execution_count": null,
      "metadata": {
        "id": "YSi_mVw7YF33"
      },
      "outputs": [],
      "source": []
    }
  ],
  "metadata": {
    "colab": {
      "provenance": []
    },
    "kernelspec": {
      "display_name": "Python 3",
      "name": "python3"
    },
    "language_info": {
      "name": "python"
    }
  },
  "nbformat": 4,
  "nbformat_minor": 0
}
